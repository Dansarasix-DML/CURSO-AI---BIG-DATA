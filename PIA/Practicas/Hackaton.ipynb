{
  "nbformat": 4,
  "nbformat_minor": 0,
  "metadata": {
    "colab": {
      "provenance": []
    },
    "kernelspec": {
      "name": "python3",
      "display_name": "Python 3"
    },
    "language_info": {
      "name": "python"
    }
  },
  "cells": [
    {
      "cell_type": "code",
      "execution_count": 3,
      "metadata": {
        "colab": {
          "base_uri": "https://localhost:8080/"
        },
        "id": "9CybpWdtMYdt",
        "outputId": "90ebaa18-985e-45e7-aaa1-2119fabddc35"
      },
      "outputs": [
        {
          "output_type": "stream",
          "name": "stdout",
          "text": [
            "Dime el nº de monedas de 2 euros:2\n",
            "Dime el nº de monedas de 1 euros:1\n",
            "Dime el nº de monedas de 50 céntimos:4\n",
            "Dime el nº de monedas de 20 céntimos:5\n",
            "Dime el nº de monedas de 10 céntimos:6\n",
            "Tienes un total de 8.6 €\n",
            "Tienes un total de 0 € y 8 devuelto\n"
          ]
        }
      ],
      "source": [
        "mon_2 = int(input(\"Dime el nº de monedas de 2 euros:\"))\n",
        "mon_1 = int(input(\"Dime el nº de monedas de 1 euros:\"))\n",
        "mon_50 = int(input(\"Dime el nº de monedas de 50 céntimos:\"))\n",
        "mon_20 = int(input(\"Dime el nº de monedas de 20 céntimos:\"))\n",
        "mon_10 = int(input(\"Dime el nº de monedas de 10 céntimos:\"))\n",
        "\n",
        "dinero = mon_2*2 + mon_1 + mon_50*0.5 + mon_20*0.2 + mon_10*0.1\n",
        "\n",
        "print(f\"Tienes un total de {dinero} €\")\n",
        "print(f\"Tienes un total de {int(dinero//100)} € y {int(dinero%100)} devuelto\")"
      ]
    },
    {
      "cell_type": "code",
      "source": [
        "a = int(input(\"Dime un número:\"))\n",
        "b = int(input(\"Dime otro número:\"))\n",
        "\n",
        "if a > b:\n",
        "    print(f\"{a} es mayor que {b}\")\n",
        "elif a < b:\n",
        "    print(f\"{b} es mayor que {a}\")\n",
        "else:\n",
        "    print(\"Son iguales\")"
      ],
      "metadata": {
        "colab": {
          "base_uri": "https://localhost:8080/"
        },
        "id": "a9sKBCkLPOPJ",
        "outputId": "04f156c0-11ca-4817-9cb3-a7aa8ebb9a08"
      },
      "execution_count": 4,
      "outputs": [
        {
          "output_type": "stream",
          "name": "stdout",
          "text": [
            "Dime un número:3\n",
            "Dime otro número:7\n",
            "7 es mayor que 3\n"
          ]
        }
      ]
    },
    {
      "cell_type": "code",
      "source": [
        "a = int(input(\"Dime un número:\"))\n",
        "\n",
        "if a % 2 == 0:\n",
        "    print(f\"{a} es par\")\n",
        "else:\n",
        "    print(f\"{a} es impar\")"
      ],
      "metadata": {
        "colab": {
          "base_uri": "https://localhost:8080/"
        },
        "id": "mePgCaZUQYCT",
        "outputId": "842890c3-73d4-4735-d592-ceafc53ab59a"
      },
      "execution_count": 5,
      "outputs": [
        {
          "output_type": "stream",
          "name": "stdout",
          "text": [
            "Dime un número:4\n",
            "4 es par\n"
          ]
        }
      ]
    },
    {
      "cell_type": "code",
      "source": [
        "edad1 = int(input(\"Dime la edad de la primera persona:\"))\n",
        "edad2 = int(input(\"Dime la edad de la segunda persona:\"))\n",
        "\n",
        "if edad1 > edad2:\n",
        "    print(f\"La segunda persona es joven\")\n",
        "elif edad1 < edad2:\n",
        "    print(f\"La primera persona es joven\")\n",
        "else:\n",
        "    print(\"Tienen la misma edad\")\n"
      ],
      "metadata": {
        "colab": {
          "base_uri": "https://localhost:8080/"
        },
        "id": "P1StsyejRB4r",
        "outputId": "2c254755-26f2-4bb0-cc89-336236b67c71"
      },
      "execution_count": 7,
      "outputs": [
        {
          "output_type": "stream",
          "name": "stdout",
          "text": [
            "Dime la edad de la primera persona:10\n",
            "Dime la edad de la segunda persona:10\n",
            "Tienen la misma edad\n"
          ]
        }
      ]
    },
    {
      "cell_type": "code",
      "source": [
        "caracter = str(input(\"Dime un caracter:\"))\n",
        "\n",
        "if len(caracter) == 1:\n",
        "\n",
        "  if caracter.isalpha():\n",
        "      print(f\"Es una letra\")\n",
        "  elif caracter.isdigit():\n",
        "      print(f\"Es un número\")\n",
        "  elif caracter in '`´¨+-_.:,;<>{}[]^*¡!¿?=()/&%$#@|~€\\/ºª':\n",
        "      print(f\"Es un símbolo\")\n",
        "  else:\n",
        "      print(\"Es otro cáracter\")\n",
        "else:\n",
        "  print(\"No es un caracter\")\n"
      ],
      "metadata": {
        "colab": {
          "base_uri": "https://localhost:8080/"
        },
        "id": "2vPTxRqoShk-",
        "outputId": "9664d059-dcb2-42ce-8c2d-59170a2377a7"
      },
      "execution_count": 31,
      "outputs": [
        {
          "output_type": "stream",
          "name": "stdout",
          "text": [
            "Dime un caracter:4\n",
            "Es un número\n"
          ]
        }
      ]
    },
    {
      "cell_type": "code",
      "source": [
        "a = float(input(\"Dime el primer lado del triángulo:\"))\n",
        "b = float(input(\"Dime el segundo lado del triángulo:\"))\n",
        "c = float(input(\"Dime el tercer lado del triángulo:\"))\n",
        "\n",
        "lados = [a, b, c]\n",
        "lados.sort()\n",
        "\n",
        "if lados[2] >= lados[0] + lados[1]:\n",
        "    print(\"No es un triángulo\")\n",
        "else:\n",
        "  if lados[2]**2 == lados[0]**2 + lados[1]**2:\n",
        "      print(\"Es un triángulo rectángulo\")\n",
        "  elif a == b == c:\n",
        "      print(\"Es un triángulo equilátero\")\n",
        "  elif a == b or b == c or a == c:\n",
        "      print(\"Es un triángulo isósceles\")\n",
        "  else:\n",
        "      print(\"Es un triángulo escaleno\")"
      ],
      "metadata": {
        "colab": {
          "base_uri": "https://localhost:8080/"
        },
        "id": "3j_iYjzWlFhw",
        "outputId": "f96e26ad-02bd-4a13-c1be-c4ad7dfdab9c"
      },
      "execution_count": 39,
      "outputs": [
        {
          "output_type": "stream",
          "name": "stdout",
          "text": [
            "Dime el primer lado del triángulo:2\n",
            "Dime el segundo lado del triángulo:8\n",
            "Dime el tercer lado del triángulo:1\n",
            "Es un triángulo escaleno\n"
          ]
        }
      ]
    },
    {
      "cell_type": "code",
      "source": [
        "year = int(input(\"Dime un año:\"))\n",
        "\n",
        "if (year % 4 == 0 and year % 100 != 0) or year % 400 == 0:\n",
        "    print(f\"{year} es un año bisiesto\")\n",
        "else:\n",
        "    print(f\"{year} no es un año bisiesto\")"
      ],
      "metadata": {
        "colab": {
          "base_uri": "https://localhost:8080/"
        },
        "id": "4TqZ_nBgtDah",
        "outputId": "db8f6553-774a-42f4-e01b-898407f95650"
      },
      "execution_count": 41,
      "outputs": [
        {
          "output_type": "stream",
          "name": "stdout",
          "text": [
            "Dime un año:2000\n",
            "2000 es un año bisiesto\n"
          ]
        }
      ]
    },
    {
      "cell_type": "code",
      "source": [
        "dinero = int(input(\"Dime cuanto dinero tienes:\"))\n",
        "\n",
        "# Hcemos desglose del total en billetes y monedas\n",
        "\n",
        "billetes = [500, 200, 100, 50, 20, 10, 5]\n",
        "\n",
        "monedas = [2, 1]\n",
        "\n",
        "for billete in billetes:\n",
        "    if dinero >= billete:\n",
        "        cont = dinero // billete\n",
        "        print(f\"{cont} billetes de {billete}€.\")\n",
        "        dinero -= cont * billete\n",
        "\n",
        "for moneda in monedas:\n",
        "    if dinero >= moneda:\n",
        "        cont = dinero // moneda\n",
        "        print(f\"{cont} monedas de {moneda}€.\")\n",
        "        dinero -= cont * moneda\n",
        "\n"
      ],
      "metadata": {
        "colab": {
          "base_uri": "https://localhost:8080/"
        },
        "id": "5KXNB0vYvNWA",
        "outputId": "b1a8825d-0d2b-43e7-947c-663a534925eb"
      },
      "execution_count": 52,
      "outputs": [
        {
          "output_type": "stream",
          "name": "stdout",
          "text": [
            "Dime cuanto dinero tienes:897\n",
            "1 billetes de 500€.\n",
            "1 billetes de 200€.\n",
            "1 billetes de 100€.\n",
            "1 billetes de 50€.\n",
            "2 billetes de 20€.\n",
            "1 billetes de 5€.\n",
            "1 monedas de 2€.\n"
          ]
        }
      ]
    },
    {
      "cell_type": "code",
      "source": [],
      "metadata": {
        "id": "2_1Xyv5p1sTq"
      },
      "execution_count": null,
      "outputs": []
    }
  ]
}